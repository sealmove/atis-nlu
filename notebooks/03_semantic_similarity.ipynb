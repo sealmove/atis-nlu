{
 "cells": [
  {
   "cell_type": "markdown",
   "metadata": {},
   "source": [
    "# Semantic similarity methods for semantic parsing\n",
    "\n",
    "Natural language allows us to express the same concept in different ways and with different words. Every language has synonyms and semantically related words. There are usually two ways to recognize semantic similarity, either with a synonyms dictionary or with word vector-based semantic similarity methods. We will discuss both approaches."
   ]
  },
  {
   "cell_type": "markdown",
   "metadata": {},
   "source": [
    "## Using synonyms lists for semantic similarity\n",
    "\n",
    "We already went through our dataset and saw that different verbs are used to express the same actions. For instance, `landing`, `arriving`, and `flying to` verbs carry the same meaning, whereas `leaving`, `departing`, and `flying from` verbs form another semantic group.\n",
    "\n",
    "We already saw that in most cases, the transitive verbs and direct objects express the intent. An easy way to determine whether two utterances represent the same intent is to check whether the verbs and the direct objects are synonyms.\n",
    "\n",
    "Let's take an example and compare two example utterances from the dataset. First, we prepare a small synonyms dictionary. We include only the base forms of the verbs and nouns. While doing the comparison, we also use the base form of the words.\n",
    "\n",
    "Each **synonym set (synset)** includes the set of synonyms for our domain. We usually include the language-general synonyms (airplane-plane) and the domain-specific synonyms (book-buy)."
   ]
  },
  {
   "cell_type": "code",
   "execution_count": 1,
   "metadata": {},
   "outputs": [
    {
     "name": "stdout",
     "output_type": "stream",
     "text": [
      "list in ('show', 'list'): True\n",
      "meal in ('aircraft', 'airplane', 'plane'): False\n"
     ]
    }
   ],
   "source": [
    "import spacy\n",
    "\n",
    "verbSynsets = [\n",
    "    (\"show\", \"list\"),\n",
    "    (\"book\", \"make a reservation\", \"buy\", \"reserve\")\n",
    "]\n",
    "\n",
    "objSynsets = [\n",
    "    (\"meal\", \"food\"),\n",
    "    (\"aircraft\", \"airplane\", \"plane\")\n",
    "]\n",
    "\n",
    "nlp = spacy.load('en_core_web_md')\n",
    "doc1 = nlp(\"show me all aircrafts that cp uses\")\n",
    "doc2 = nlp(\"list all meals on my flight\")\n",
    "\n",
    "def extract(doc):\n",
    "    for token in doc:\n",
    "        if token.dep_ == \"dobj\":\n",
    "            obj = token.lemma_\n",
    "            verb = token.head.lemma_\n",
    "            return (verb, obj)\n",
    "\n",
    "verb1, obj1 = extract(doc1)\n",
    "verb2, obj2 = extract(doc2)\n",
    "\n",
    "vsyn = [syn for syn in verbSynsets if verb1 in syn]\n",
    "print(f'{verb2} in {vsyn[0]}: {verb2 in vsyn[0]}')\n",
    "\n",
    "osyn = [obj for obj in objSynsets if obj1 in obj]\n",
    "print(f'{obj2} in {osyn[0]}: {obj2 in vsyn[0]}')"
   ]
  },
  {
   "cell_type": "markdown",
   "metadata": {},
   "source": [
    "We deduce that the preceding two utterances do not refer to the same intent (same verb but different object).\n",
    "\n",
    "Synonym lists are great for semantic similarity calculations, especially when the number of synonyms in the domain is rather low. Using synonyms is not always applicable though. Making a dictionary look up each word in a sentence can become inefficient for big synsets."
   ]
  },
  {
   "cell_type": "markdown",
   "metadata": {},
   "source": [
    "## Using word vectors to recognize semantic similarity\n",
    "\n",
    "Word vectors offer us a very convenient and vector-based way to calculate semantic similarity."
   ]
  },
  {
   "cell_type": "code",
   "execution_count": 2,
   "metadata": {},
   "outputs": [
    {
     "name": "stdout",
     "output_type": "stream",
     "text": [
      "verb similarity: 0.2340034395456314\n",
      "object similarity: 0.12948690354824066\n"
     ]
    }
   ],
   "source": [
    "import spacy\n",
    "\n",
    "nlp = spacy.load('en_core_web_md')\n",
    "doc1 = nlp(\"show me all aircrafts that cp uses\")\n",
    "doc2 = nlp(\"list all meals on my flight\")\n",
    "\n",
    "def extract(doc):\n",
    "    for token in doc:\n",
    "        if token.dep_ == \"dobj\":\n",
    "            obj = token\n",
    "            verb = token.head\n",
    "            return (verb, obj)\n",
    "\n",
    "verb1, obj1 = extract(doc1)\n",
    "verb2, obj2 = extract(doc2)\n",
    "\n",
    "print(f'verb similarity: {verb1.similarity(verb2)}')\n",
    "print(f'object similarity: {obj1.similarity(obj2)}')"
   ]
  },
  {
   "cell_type": "markdown",
   "metadata": {},
   "source": [
    "The resulting score is very low. Once again we deduce that these two utterances do not represent the same intent."
   ]
  }
 ],
 "metadata": {
  "kernelspec": {
   "display_name": "Python 3.9.2 ('.env': venv)",
   "language": "python",
   "name": "python3"
  },
  "language_info": {
   "codemirror_mode": {
    "name": "ipython",
    "version": 3
   },
   "file_extension": ".py",
   "mimetype": "text/x-python",
   "name": "python",
   "nbconvert_exporter": "python",
   "pygments_lexer": "ipython3",
   "version": "3.9.2"
  },
  "orig_nbformat": 4,
  "vscode": {
   "interpreter": {
    "hash": "cdb829f0a7bb11ab2f1714eb363ce973ffb00a95b9327c3c93f893794322a975"
   }
  }
 },
 "nbformat": 4,
 "nbformat_minor": 2
}
