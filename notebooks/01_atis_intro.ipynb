{
 "cells": [
  {
   "cell_type": "markdown",
   "metadata": {},
   "source": [
    "# Getting to know the ATIS dataset\n",
    "\n",
    "ATIS is a well-known dataset consisting of customer utterances who want to book a flight, get information about the flights, including flight costs, flight destinations, and timetables.\n",
    "\n",
    "We will explore the dataset with pandas"
   ]
  },
  {
   "cell_type": "code",
   "execution_count": 5,
   "metadata": {},
   "outputs": [
    {
     "data": {
      "text/html": [
       "<div>\n",
       "<style scoped>\n",
       "    .dataframe tbody tr th:only-of-type {\n",
       "        vertical-align: middle;\n",
       "    }\n",
       "\n",
       "    .dataframe tbody tr th {\n",
       "        vertical-align: top;\n",
       "    }\n",
       "\n",
       "    .dataframe thead th {\n",
       "        text-align: right;\n",
       "    }\n",
       "</style>\n",
       "<table border=\"1\" class=\"dataframe\">\n",
       "  <thead>\n",
       "    <tr style=\"text-align: right;\">\n",
       "      <th></th>\n",
       "      <th>0</th>\n",
       "      <th>1</th>\n",
       "    </tr>\n",
       "  </thead>\n",
       "  <tbody>\n",
       "    <tr>\n",
       "      <th>0</th>\n",
       "      <td>atis_flight</td>\n",
       "      <td>i want to fly from boston at 838 am and arriv...</td>\n",
       "    </tr>\n",
       "    <tr>\n",
       "      <th>1</th>\n",
       "      <td>atis_flight</td>\n",
       "      <td>what flights are available from pittsburgh to...</td>\n",
       "    </tr>\n",
       "    <tr>\n",
       "      <th>2</th>\n",
       "      <td>atis_flight_time</td>\n",
       "      <td>what is the arrival time in san francisco for...</td>\n",
       "    </tr>\n",
       "    <tr>\n",
       "      <th>3</th>\n",
       "      <td>atis_airfare</td>\n",
       "      <td>cheapest airfare from tacoma to orlando</td>\n",
       "    </tr>\n",
       "    <tr>\n",
       "      <th>4</th>\n",
       "      <td>atis_airfare</td>\n",
       "      <td>round trip fares from pittsburgh to philadelp...</td>\n",
       "    </tr>\n",
       "  </tbody>\n",
       "</table>\n",
       "</div>"
      ],
      "text/plain": [
       "                  0                                                  1\n",
       "0       atis_flight   i want to fly from boston at 838 am and arriv...\n",
       "1       atis_flight   what flights are available from pittsburgh to...\n",
       "2  atis_flight_time   what is the arrival time in san francisco for...\n",
       "3      atis_airfare            cheapest airfare from tacoma to orlando\n",
       "4      atis_airfare   round trip fares from pittsburgh to philadelp..."
      ]
     },
     "execution_count": 5,
     "metadata": {},
     "output_type": "execute_result"
    }
   ],
   "source": [
    "import pandas as pd\n",
    "dataset = pd.read_csv(\"data/atis_intents.csv\", header=None)\n",
    "dataset.head()"
   ]
  },
  {
   "cell_type": "markdown",
   "metadata": {},
   "source": [
    "The first column contains the intent, and the second column contains the user utterance. We observe that the utterances are not capitalized or punctuated. This is because these utterances are an output of a speech-to-text engine.\n",
    "\n",
    "Next, let's see the distribution of the number of utterances by intent:"
   ]
  },
  {
   "cell_type": "code",
   "execution_count": 6,
   "metadata": {},
   "outputs": [
    {
     "name": "stdout",
     "output_type": "stream",
     "text": [
      "0\n",
      "atis_abbreviation                            147\n",
      "atis_aircraft                                 81\n",
      "atis_aircraft#atis_flight#atis_flight_no       1\n",
      "atis_airfare                                 423\n",
      "atis_airfare#atis_flight_time                  1\n",
      "atis_airline                                 157\n",
      "atis_airline#atis_flight_no                    2\n",
      "atis_airport                                  20\n",
      "atis_capacity                                 16\n",
      "atis_cheapest                                  1\n",
      "atis_city                                     19\n",
      "atis_distance                                 20\n",
      "atis_flight                                 3666\n",
      "atis_flight#atis_airfare                      21\n",
      "atis_flight_no                                12\n",
      "atis_flight_time                              54\n",
      "atis_ground_fare                              18\n",
      "atis_ground_service                          255\n",
      "atis_ground_service#atis_ground_fare           1\n",
      "atis_meal                                      6\n",
      "atis_quantity                                 51\n",
      "atis_restriction                               6\n",
      "dtype: int64\n"
     ]
    }
   ],
   "source": [
    "print(dataset.groupby(0).size())"
   ]
  }
 ],
 "metadata": {
  "kernelspec": {
   "display_name": "Python 3.9.2 ('.env': venv)",
   "language": "python",
   "name": "python3"
  },
  "language_info": {
   "codemirror_mode": {
    "name": "ipython",
    "version": 3
   },
   "file_extension": ".py",
   "mimetype": "text/x-python",
   "name": "python",
   "nbconvert_exporter": "python",
   "pygments_lexer": "ipython3",
   "version": "3.9.2"
  },
  "orig_nbformat": 4,
  "vscode": {
   "interpreter": {
    "hash": "cdb829f0a7bb11ab2f1714eb363ce973ffb00a95b9327c3c93f893794322a975"
   }
  }
 },
 "nbformat": 4,
 "nbformat_minor": 2
}
