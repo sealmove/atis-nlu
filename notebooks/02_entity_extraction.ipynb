{
 "cells": [
  {
   "cell_type": "markdown",
   "metadata": {},
   "source": [
    "# Introduction\n",
    "\n",
    "As we have already seen, this is a flights dataset. Hence, we expect to see city/country names, airport names, and airline names.\n",
    "\n",
    "Also, the atis_abbreviation intent contains utterances that are inquiries about some abbreviations. Flight abbreviations can be fare codes (for example, M\n",
    "= Economy), airline name codes (for example, United Airlines = UA), and airport codes (for example, Berlin Airport = BER), and so on. Examples include the following:\n",
    "\n",
    "```\n",
    "what does the abbreviation ua mean\n",
    "what does restriction ap 57 mean\n",
    "explain restriction ap please\n",
    "what's fare code yn\n",
    "```\n",
    "\n",
    "Let's visualize some utterances from the dataset:"
   ]
  },
  {
   "cell_type": "code",
   "execution_count": 38,
   "metadata": {},
   "outputs": [
    {
     "data": {
      "text/html": [
       "<span class=\"tex2jax_ignore\"><div class=\"entities\" style=\"line-height: 2.5; direction: ltr\">show me the flights from \n",
       "<mark class=\"entity\" style=\"background: #feca74; padding: 0.45em 0.6em; margin: 0 0.25em; line-height: 1; border-radius: 0.35em;\">\n",
       "    montreal\n",
       "    <span style=\"font-size: 0.8em; font-weight: bold; line-height: 1; border-radius: 0.35em; vertical-align: middle; margin-left: 0.5rem\">GPE</span>\n",
       "</mark>\n",
       " to \n",
       "<mark class=\"entity\" style=\"background: #feca74; padding: 0.45em 0.6em; margin: 0 0.25em; line-height: 1; border-radius: 0.35em;\">\n",
       "    chicago\n",
       "    <span style=\"font-size: 0.8em; font-weight: bold; line-height: 1; border-radius: 0.35em; vertical-align: middle; margin-left: 0.5rem\">GPE</span>\n",
       "</mark>\n",
       "</div>\n",
       "\n",
       "<div class=\"entities\" style=\"line-height: 2.5; direction: ltr\">does \n",
       "<mark class=\"entity\" style=\"background: #7aecec; padding: 0.45em 0.6em; margin: 0 0.25em; line-height: 1; border-radius: 0.35em;\">\n",
       "    american airlines\n",
       "    <span style=\"font-size: 0.8em; font-weight: bold; line-height: 1; border-radius: 0.35em; vertical-align: middle; margin-left: 0.5rem\">ORG</span>\n",
       "</mark>\n",
       " fly from \n",
       "<mark class=\"entity\" style=\"background: #feca74; padding: 0.45em 0.6em; margin: 0 0.25em; line-height: 1; border-radius: 0.35em;\">\n",
       "    boston\n",
       "    <span style=\"font-size: 0.8em; font-weight: bold; line-height: 1; border-radius: 0.35em; vertical-align: middle; margin-left: 0.5rem\">GPE</span>\n",
       "</mark>\n",
       " to \n",
       "<mark class=\"entity\" style=\"background: #feca74; padding: 0.45em 0.6em; margin: 0 0.25em; line-height: 1; border-radius: 0.35em;\">\n",
       "    san francisco\n",
       "    <span style=\"font-size: 0.8em; font-weight: bold; line-height: 1; border-radius: 0.35em; vertical-align: middle; margin-left: 0.5rem\">GPE</span>\n",
       "</mark>\n",
       "</div>\n",
       "\n",
       "<div class=\"entities\" style=\"line-height: 2.5; direction: ltr\">show me flights from \n",
       "<mark class=\"entity\" style=\"background: #feca74; padding: 0.45em 0.6em; margin: 0 0.25em; line-height: 1; border-radius: 0.35em;\">\n",
       "    minneapolis\n",
       "    <span style=\"font-size: 0.8em; font-weight: bold; line-height: 1; border-radius: 0.35em; vertical-align: middle; margin-left: 0.5rem\">GPE</span>\n",
       "</mark>\n",
       " to \n",
       "<mark class=\"entity\" style=\"background: #feca74; padding: 0.45em 0.6em; margin: 0 0.25em; line-height: 1; border-radius: 0.35em;\">\n",
       "    seattle\n",
       "    <span style=\"font-size: 0.8em; font-weight: bold; line-height: 1; border-radius: 0.35em; vertical-align: middle; margin-left: 0.5rem\">GPE</span>\n",
       "</mark>\n",
       " on \n",
       "<mark class=\"entity\" style=\"background: #bfe1d9; padding: 0.45em 0.6em; margin: 0 0.25em; line-height: 1; border-radius: 0.35em;\">\n",
       "    july second\n",
       "    <span style=\"font-size: 0.8em; font-weight: bold; line-height: 1; border-radius: 0.35em; vertical-align: middle; margin-left: 0.5rem\">DATE</span>\n",
       "</mark>\n",
       "</div>\n",
       "\n",
       "<div class=\"entities\" style=\"line-height: 2.5; direction: ltr\">what flights leave after \n",
       "<mark class=\"entity\" style=\"background: #bfe1d9; padding: 0.45em 0.6em; margin: 0 0.25em; line-height: 1; border-radius: 0.35em;\">\n",
       "    7 pm\n",
       "    <span style=\"font-size: 0.8em; font-weight: bold; line-height: 1; border-radius: 0.35em; vertical-align: middle; margin-left: 0.5rem\">TIME</span>\n",
       "</mark>\n",
       " from \n",
       "<mark class=\"entity\" style=\"background: #feca74; padding: 0.45em 0.6em; margin: 0 0.25em; line-height: 1; border-radius: 0.35em;\">\n",
       "    philadelphia\n",
       "    <span style=\"font-size: 0.8em; font-weight: bold; line-height: 1; border-radius: 0.35em; vertical-align: middle; margin-left: 0.5rem\">GPE</span>\n",
       "</mark>\n",
       " to \n",
       "<mark class=\"entity\" style=\"background: #feca74; padding: 0.45em 0.6em; margin: 0 0.25em; line-height: 1; border-radius: 0.35em;\">\n",
       "    boston\n",
       "    <span style=\"font-size: 0.8em; font-weight: bold; line-height: 1; border-radius: 0.35em; vertical-align: middle; margin-left: 0.5rem\">GPE</span>\n",
       "</mark>\n",
       "</div></span>"
      ],
      "text/plain": [
       "<IPython.core.display.HTML object>"
      ]
     },
     "metadata": {},
     "output_type": "display_data"
    }
   ],
   "source": [
    "import spacy\n",
    "from spacy import displacy\n",
    "\n",
    "nlp = spacy.load(\"en_core_web_md\")\n",
    "docs = [nlp(\"show me the flights from montreal to chicago\"),\n",
    "        nlp(\"does american airlines fly from boston to san francisco\"),\n",
    "        nlp(\"show me flights from minneapolis to seattle on july second\"),\n",
    "        nlp(\"what flights leave after 7 pm from philadelphia to boston\")]\n",
    "displacy.render(docs, style=\"ent\")"
   ]
  },
  {
   "cell_type": "markdown",
   "metadata": {},
   "source": [
    "Next, let's see all the entity types and their frequencies more systematically:"
   ]
  },
  {
   "cell_type": "code",
   "execution_count": 34,
   "metadata": {},
   "outputs": [
    {
     "name": "stdout",
     "output_type": "stream",
     "text": [
      "Counter({'GPE': 8888,\n",
      "         'DATE': 1440,\n",
      "         'TIME': 1006,\n",
      "         'ORG': 412,\n",
      "         'CARDINAL': 281,\n",
      "         'ORDINAL': 193,\n",
      "         'NORP': 98,\n",
      "         'FAC': 67,\n",
      "         'MONEY': 48,\n",
      "         'LOC': 24,\n",
      "         'PERSON': 10,\n",
      "         'PRODUCT': 9,\n",
      "         'LANGUAGE': 1,\n",
      "         'EVENT': 1})\n"
     ]
    }
   ],
   "source": [
    "from collections import Counter\n",
    "import spacy\n",
    "import pprint\n",
    "\n",
    "nlp = spacy.load('en_core_web_md')\n",
    "corpus = open('../data/atis_utterances.txt', 'r').read().split('\\n')\n",
    "\n",
    "all_ent_labels = []\n",
    "for sentence in corpus:\n",
    "    doc = nlp(sentence.strip())\n",
    "    ents = doc.ents\n",
    "    all_ent_labels += [ent.label_ for ent in ents]\n",
    "c = Counter(all_ent_labels)\n",
    "\n",
    "pprint.pprint(c)"
   ]
  },
  {
   "cell_type": "markdown",
   "metadata": {},
   "source": [
    "We observe that the most frequent entity labels are `GPE` (location names), `DATE`, `TIME`, and `ORG` (organizations). Obviously, the location entities refer to destination and source cities/countries, hence they play a very important role in the overall semantic success of our application."
   ]
  },
  {
   "cell_type": "markdown",
   "metadata": {},
   "source": [
    "# Extracting named entities with Matcher"
   ]
  },
  {
   "cell_type": "markdown",
   "metadata": {},
   "source": [
    "## Locations\n",
    "\n",
    "We'll first extract the location entities by spaCy Matcher by searching for a pattern of the preposition location_name form. The following code extracts location entities preceded with a preposition:"
   ]
  },
  {
   "cell_type": "code",
   "execution_count": null,
   "metadata": {},
   "outputs": [
    {
     "name": "stdout",
     "output_type": "stream",
     "text": [
      "from denver\n",
      "to boston\n"
     ]
    }
   ],
   "source": [
    "import spacy\n",
    "from spacy.matcher import Matcher\n",
    "\n",
    "nlp = spacy.load(\"en_core_web_md\")\n",
    "matcher = Matcher(nlp.vocab)\n",
    "pattern = [{\"POS\": \"ADP\"}, {\"ENT_TYPE\": \"GPE\"}]\n",
    "matcher.add(\"prepositionLocation\", [pattern])\n",
    "doc = nlp(\"show me flights from denver to boston on tuesday\")\n",
    "matches = matcher(doc)\n",
    "for mid, start, end in matches:\n",
    "    print(doc[start:end])"
   ]
  },
  {
   "cell_type": "markdown",
   "metadata": {},
   "source": [
    "Although the `from` and `to` prepositions dominate in this dataset, verbs about leaving and arriving can be used with a variety of prepositions. Here are some more example sentences from the dataset:\n",
    "\n",
    "```\n",
    "i'm looking for a flight that goes from ontario to westchester and stops in chicago\n",
    "what flights arrive in chicago on sunday on continental\n",
    "yes i'd like a flight from long beach to st. louis by way of dallas\n",
    "what are the evening flights flying out of dallas\n",
    "```\n",
    "\n",
    "we see some phrasal verbs such as arrive `in`, as well as preposition and verb combinations such as `stop in` and `fly out of`. `By the way of Dallas` does not include a verb at all. The user indicated that they want to make a stop at Dallas. `to`, `from`, `in`, `out`, and `of` are common prepositions that are used in a traveling context."
   ]
  },
  {
   "cell_type": "markdown",
   "metadata": {},
   "source": [
    "## Airline information\n",
    "\n",
    "The `ORG` entity label means an organization and it corresponds to airline company names in our dataset. The following code segment extracts the organization names, possibly multi-worded names:"
   ]
  },
  {
   "cell_type": "code",
   "execution_count": 41,
   "metadata": {},
   "outputs": [
    {
     "name": "stdout",
     "output_type": "stream",
     "text": [
      "united airlines\n"
     ]
    }
   ],
   "source": [
    "matcher = Matcher(nlp.vocab)\n",
    "pattern = [{\"ENT_TYPE\": \"ORG\", \"OP\": \"+\"}]\n",
    "matcher.add(\"AirlineName\", [pattern])\n",
    "doc = nlp(\"what is the earliest united airlines flight flying from denver\")\n",
    "matches = matcher(doc)\n",
    "spans = [doc[start:end] for mid, start, end in matches]\n",
    "longest_spans = spacy.util.filter_spans(spans)\n",
    "for span in longest_spans:\n",
    "    print(span)"
   ]
  },
  {
   "cell_type": "markdown",
   "metadata": {},
   "source": [
    "## Dates and times\n",
    "\n",
    "We can extract dates and times very similarly:"
   ]
  },
  {
   "cell_type": "code",
   "execution_count": 103,
   "metadata": {},
   "outputs": [
    {
     "name": "stdout",
     "output_type": "stream",
     "text": [
      "[on wednesday of next week, after 2 o'clock pm]\n",
      "[after 5 o'clock pm, the day after tomorrow]\n",
      "[next wednesday night, after 6 o'clock]\n",
      "[between 12 and 4, in the afternoon]\n",
      "[before 11 am, on august second]\n"
     ]
    }
   ],
   "source": [
    "import itertools\n",
    "\n",
    "matcher = Matcher(nlp.vocab)\n",
    "date_pattern = [{\"POS\": \"ADP\", \"OP\": \"?\"}, {\"ENT_TYPE\": \"DATE\", \"OP\": \"+\"}, {\"POS\": \"NOUN\", \"OP\": \"?\"}]\n",
    "time_pattern = [{\"POS\": \"ADP\", \"OP\": \"?\"}, {\"POS\": \"DET\", \"OP\": \"?\"}, {\"ENT_TYPE\": \"TIME\", \"OP\": \"+\"}]\n",
    "matcher.add(\"FlightTime\", [date_pattern, time_pattern])\n",
    "\n",
    "def match_and_print(sentence):\n",
    "    doc = nlp(sentence)\n",
    "    matches = matcher(doc)\n",
    "    spans = [doc[start:end] for mid, start, end in matches]\n",
    "    longest_spans = spacy.util.filter_spans(spans)\n",
    "    print(longest_spans)\n",
    "\n",
    "match_and_print(\"show me all flights from boston to pittsburgh on wednesday of next week which leave boston after 2 o'clock pm\")\n",
    "match_and_print(\"show me all flights from atlanta to denver which leave after 5 o'clock pm the day after tomorrow\")\n",
    "match_and_print(\"show me the flights from boston to pittsburgh next wednesday night after 6 o'clock\")\n",
    "match_and_print(\"show me all the delta flights leaving or arriving at pittsburgh between 12 and 4 in the afternoon\")\n",
    "match_and_print(\"show me all the flights before 11 am on august second from boston to denver on delta\")\n"
   ]
  }
 ],
 "metadata": {
  "kernelspec": {
   "display_name": "Python 3.9.2 ('.env': venv)",
   "language": "python",
   "name": "python3"
  },
  "language_info": {
   "codemirror_mode": {
    "name": "ipython",
    "version": 3
   },
   "file_extension": ".py",
   "mimetype": "text/x-python",
   "name": "python",
   "nbconvert_exporter": "python",
   "pygments_lexer": "ipython3",
   "version": "3.9.2"
  },
  "orig_nbformat": 4,
  "vscode": {
   "interpreter": {
    "hash": "cdb829f0a7bb11ab2f1714eb363ce973ffb00a95b9327c3c93f893794322a975"
   }
  }
 },
 "nbformat": 4,
 "nbformat_minor": 2
}
